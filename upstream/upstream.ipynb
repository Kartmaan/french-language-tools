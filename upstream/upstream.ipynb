{
 "cells": [
  {
   "attachments": {},
   "cell_type": "markdown",
   "metadata": {},
   "source": [
    "# Actions menées en amont\n",
    "Le fichier .csv présent dans ce projet a été crée à partir d'un fichier XML émanant de la database du Wiktionary français et téléchargé à partir de cette source :\n",
    "\n",
    "http://redac.univ-tlse2.fr/lexiques/wiktionaryx.html. \n",
    "\n",
    "Ce Notebook explique comment le fichier XML, non présent dans le dépot final en raison de sa taille (+300Mb), a été parsé et transformé en fichier .csv.\n",
    "\n",
    "Le fichier XML recensait plus de 950.000 mots en français (y compris les pluriels, variations orthographiques etc...) avec leurs définitions, leurs traductions en différentes langues, leurs exemples d'utilisation etc. \n",
    "\n",
    "Pour des raisons de concision et afin de réduire au mieux la taille du fichier final, ce projet a fait le choix de ne garder que les mots et leurs définitions et de transformer le fichier XML en un fichier .csv, ce qui d'une part le débarasse de toutes les syntaxes balisées et, d'autre part, apporte une meilleur synergie avec le module Pandas pour l'exploitation ultérieure des données."
   ]
  },
  {
   "attachments": {},
   "cell_type": "markdown",
   "metadata": {},
   "source": [
    "## Parsing du fichier XML"
   ]
  },
  {
   "cell_type": "code",
   "execution_count": 3,
   "metadata": {},
   "outputs": [],
   "source": [
    "from bs4 import BeautifulSoup"
   ]
  },
  {
   "attachments": {},
   "cell_type": "markdown",
   "metadata": {},
   "source": [
    "Une fois le module importé, nous créons un objet Beautifulsoup (instancié ici sous le nom de 'soup') par l'ouverture du fichier 'dico.xml' présent dans le dossier courant. L'objet contiendra la totalité du code XML du fichier `dico.xml`"
   ]
  },
  {
   "cell_type": "code",
   "execution_count": 4,
   "metadata": {},
   "outputs": [],
   "source": [
    "# Création de l'objet soup (peut prendre plusieurs minutes)\n",
    "with open(\"dico.xml\", mode='r', encoding='utf-8') as file:\n",
    "    soup = BeautifulSoup(file, features='xml')"
   ]
  },
  {
   "attachments": {},
   "cell_type": "markdown",
   "metadata": {},
   "source": [
    "Dans ce fichier XML, chaque mot est contenu dans des balises `<entry>`.\n",
    "\n",
    "Voici un exemple (tronqué) du rendu XML pour le mot 'manga' :\n",
    "\n",
    "```\n",
    "<entry form=\"manga\" pageid=\"21\">\n",
    "    ...\n",
    "    <gloss>Bande dessinée japonaise, souvent en noir et blanc et à la pagination élevée.</gloss>\n",
    "    ...\n",
    "    <gloss>Style, stéréotypes et règles implicites de la bande dessinée japonaise.</gloss>\n",
    "    ...\n",
    "</entry>\n",
    "```\n",
    "\n",
    "Comme nous le voyons, le mot 'manga' apparaît dans le paramètre `form` de la balise `<entry>`, et les définitions, pouvant être multiples pour chaque mot, apparaissent entre des balises `<gloss>`.\n",
    "\n",
    "La première étape consitera donc à parser toutes les balises `<entry>` dans l'objet `soup`."
   ]
  },
  {
   "cell_type": "code",
   "execution_count": 5,
   "metadata": {},
   "outputs": [],
   "source": [
    "res = soup.findAll('entry')"
   ]
  },
  {
   "attachments": {},
   "cell_type": "markdown",
   "metadata": {},
   "source": [
    "L'objet `res` contient toutes les balises `<entry> </entry>` du code XML et toutes les données se trouvant entre celles-ci, notamment les balises `<gloss> </gloss>` qui nous interessent particulièrement.\n",
    "\n",
    " Cet objet peut maintenant être itéré, chaque itération correspondra à une nouvelle balise `<entry>` (et donc à un nouveau mot) dans laquelle nous pourront parser nos informations utiles.\n",
    "\n",
    " Voici un affichage stylisé des 4 permiers mot du fichier XML grace à des boucles for.   "
   ]
  },
  {
   "cell_type": "code",
   "execution_count": 6,
   "metadata": {},
   "outputs": [
    {
     "name": "stdout",
     "output_type": "stream",
     "text": [
      "Mot :  Accueil\n",
      "1) Cérémonie ou prestation réservée à un nouvel arrivant, consistant généralement à lui souhaiter la bienvenue et à l'aider dans son intégration ou ses démarches.\n",
      "2) Lieu où sont accueillies les personnes.\n",
      "3) Faire accueil dans le sens d'accueillir ou héberger.\n",
      "Mot :  Dictionnaire\n",
      "1) Ouvrage de référence qui répertorie des mots dans un ordre convenu (alphabétique en général) pour leur associer :\n",
      "2) une définition, un sens,\n",
      "3) un ou plusieurs synonymes, antonymes, etc.,\n",
      "4) une étymologie,\n",
      "Mot :  Lire\n",
      "1) Interpréter des informations écrites sous forme de mots ou de dessins sur un support.\n",
      "2) Suivre des yeux ce qui est écrit ou imprimé, avec la connaissance des sons que les lettres figurent; soit en ne proférant pas les mots, soit en les proférant à haute voix.\n",
      "3) Comprendre ce qui est écrit ou imprimé dans une langue étrangère.\n",
      "4) Parcourir des yeux une musique notée, avec la connaissance des sons que les notes figurent et des diverses modifications que ces sons doivent recevoir.\n",
      "Mot :  Encyclopédie\n",
      "1) Ensemble, enchaînement de toutes les connaissances.\n",
      "2) Ouvrage de référence contenant des articles de fond (souvent classés par ordre alphabétique) portant sur un grand nombre de sujets, généraux ou spécifiques.\n",
      "3) Recueil qui embrasse beaucoup de sciences, beaucoup d'objets, quel qu'en soit d'ailleurs le titre.\n",
      "4) Savant universel.\n"
     ]
    }
   ],
   "source": [
    "i = 0\n",
    "\n",
    "for entry in res:\n",
    "    print(\"Mot : \", entry['form'].capitalize())\n",
    "    gloss = entry.findAll('gloss', string=True, limit=4)\n",
    "\n",
    "    for idx, definition in enumerate(gloss):\n",
    "        print(f\"{idx+1})\", definition.text)\n",
    "    \n",
    "    i+=1\n",
    "    if i == 4:\n",
    "        break"
   ]
  },
  {
   "attachments": {},
   "cell_type": "markdown",
   "metadata": {},
   "source": [
    "Nous remerquons que les mots n'ont pas été classés par ordre alphabétique, mais ceci est un détail qui pourra aisément être réglé une fois le fichier .csv crée.\n",
    "<!-- blank line -->\n",
    "----\n",
    "<!-- blank line -->\n",
    "C'est à partir de ces mêmes boucles for que nous allons maintenant créer notre fichier .csv\n",
    "\n",
    "## Création du fichier .csv"
   ]
  },
  {
   "cell_type": "code",
   "execution_count": 8,
   "metadata": {},
   "outputs": [],
   "source": [
    "import csv"
   ]
  },
  {
   "cell_type": "code",
   "execution_count": 54,
   "metadata": {},
   "outputs": [
    {
     "name": "stdout",
     "output_type": "stream",
     "text": [
      "Total null :  4403\n"
     ]
    }
   ],
   "source": [
    "with open('dico.csv', 'w', newline='') as file:\n",
    "    writer = csv.writer(file)\n",
    "    colonnes = [\"Mot\", \"Définitions\"] # Noms de nos colonnes\n",
    "\n",
    "    writer.writerow(colonnes) # Ecriture 1ère ligne (nom colonnes)\n",
    "    row_null = 0\n",
    "\n",
    "    for entry in res:\n",
    "        mot = entry['form'].capitalize() # Récupération du mot\n",
    "\n",
    "        # Récupération des définitions dans une liste\n",
    "        def_parse = entry.findAll('gloss', string=True) # limit=5\n",
    "        def_list = []\n",
    "        for definition in def_parse:\n",
    "            def_list.append(definition.text)\n",
    "\n",
    "        # Certains mots exotiques ne possèdent aucune définition,\n",
    "        # si la liste ne récupére aucune entrée, ou si la \n",
    "        # liste ne contient qu'un point le mot ne sera\n",
    "        # pas inséré au fichier .csv (+4000 mots/+900.000 \n",
    "        # n'ont aucune définition)\n",
    "        if len(def_list) > 0 and def_list != ['.']:\n",
    "            writer.writerow([mot, def_list]) # Ecriture de la ligne\n",
    "        else: # Aucune définition\n",
    "            row_null += 1\n",
    "            continue\n",
    "    \n",
    "    print(\"Total null : \", row_null)"
   ]
  },
  {
   "attachments": {},
   "cell_type": "markdown",
   "metadata": {},
   "source": [
    "## Exploitation du fichier .csv"
   ]
  },
  {
   "cell_type": "code",
   "execution_count": 71,
   "metadata": {},
   "outputs": [],
   "source": [
    "import pandas as pd"
   ]
  },
  {
   "cell_type": "code",
   "execution_count": 72,
   "metadata": {},
   "outputs": [],
   "source": [
    "# Création du dataframe Pandas\n",
    "df = pd.read_csv(\"dico.csv\")"
   ]
  },
  {
   "attachments": {},
   "cell_type": "markdown",
   "metadata": {},
   "source": [
    "### Rapide exploration"
   ]
  },
  {
   "cell_type": "code",
   "execution_count": 73,
   "metadata": {},
   "outputs": [
    {
     "data": {
      "text/plain": [
       "(973671, 2)"
      ]
     },
     "execution_count": 73,
     "metadata": {},
     "output_type": "execute_result"
    }
   ],
   "source": [
    "# Affichage des dimensions\n",
    "df.shape"
   ]
  },
  {
   "cell_type": "code",
   "execution_count": 74,
   "metadata": {},
   "outputs": [
    {
     "data": {
      "text/html": [
       "<div>\n",
       "<style scoped>\n",
       "    .dataframe tbody tr th:only-of-type {\n",
       "        vertical-align: middle;\n",
       "    }\n",
       "\n",
       "    .dataframe tbody tr th {\n",
       "        vertical-align: top;\n",
       "    }\n",
       "\n",
       "    .dataframe thead th {\n",
       "        text-align: right;\n",
       "    }\n",
       "</style>\n",
       "<table border=\"1\" class=\"dataframe\">\n",
       "  <thead>\n",
       "    <tr style=\"text-align: right;\">\n",
       "      <th></th>\n",
       "      <th>Mot</th>\n",
       "      <th>Définitions</th>\n",
       "    </tr>\n",
       "  </thead>\n",
       "  <tbody>\n",
       "    <tr>\n",
       "      <th>0</th>\n",
       "      <td>Accueil</td>\n",
       "      <td>[\"Cérémonie ou prestation réservée à un nouvel...</td>\n",
       "    </tr>\n",
       "    <tr>\n",
       "      <th>1</th>\n",
       "      <td>Dictionnaire</td>\n",
       "      <td>['Ouvrage de référence qui répertorie des mots...</td>\n",
       "    </tr>\n",
       "    <tr>\n",
       "      <th>2</th>\n",
       "      <td>Lire</td>\n",
       "      <td>['Interpréter des informations écrites sous fo...</td>\n",
       "    </tr>\n",
       "    <tr>\n",
       "      <th>3</th>\n",
       "      <td>Encyclopédie</td>\n",
       "      <td>['Ensemble, enchaînement de toutes les connais...</td>\n",
       "    </tr>\n",
       "    <tr>\n",
       "      <th>4</th>\n",
       "      <td>Manga</td>\n",
       "      <td>['Bande dessinée japonaise, souvent en noir et...</td>\n",
       "    </tr>\n",
       "  </tbody>\n",
       "</table>\n",
       "</div>"
      ],
      "text/plain": [
       "            Mot                                        Définitions\n",
       "0       Accueil  [\"Cérémonie ou prestation réservée à un nouvel...\n",
       "1  Dictionnaire  ['Ouvrage de référence qui répertorie des mots...\n",
       "2          Lire  ['Interpréter des informations écrites sous fo...\n",
       "3  Encyclopédie  ['Ensemble, enchaînement de toutes les connais...\n",
       "4         Manga  ['Bande dessinée japonaise, souvent en noir et..."
      ]
     },
     "execution_count": 74,
     "metadata": {},
     "output_type": "execute_result"
    }
   ],
   "source": [
    "# Affichage des 5 premières lignes \n",
    "df.head()"
   ]
  },
  {
   "cell_type": "code",
   "execution_count": 75,
   "metadata": {},
   "outputs": [
    {
     "data": {
      "text/html": [
       "<div>\n",
       "<style scoped>\n",
       "    .dataframe tbody tr th:only-of-type {\n",
       "        vertical-align: middle;\n",
       "    }\n",
       "\n",
       "    .dataframe tbody tr th {\n",
       "        vertical-align: top;\n",
       "    }\n",
       "\n",
       "    .dataframe thead th {\n",
       "        text-align: right;\n",
       "    }\n",
       "</style>\n",
       "<table border=\"1\" class=\"dataframe\">\n",
       "  <thead>\n",
       "    <tr style=\"text-align: right;\">\n",
       "      <th></th>\n",
       "      <th>Mot</th>\n",
       "      <th>Définitions</th>\n",
       "    </tr>\n",
       "  </thead>\n",
       "  <tbody>\n",
       "    <tr>\n",
       "      <th>973666</th>\n",
       "      <td>Sévice</td>\n",
       "      <td>['mauvais traitement.']</td>\n",
       "    </tr>\n",
       "    <tr>\n",
       "      <th>973667</th>\n",
       "      <td>Faire voir</td>\n",
       "      <td>['Montrer, faire connaître.']</td>\n",
       "    </tr>\n",
       "    <tr>\n",
       "      <th>973668</th>\n",
       "      <td>Laisser voir</td>\n",
       "      <td>['Montrer, faire connaître.']</td>\n",
       "    </tr>\n",
       "    <tr>\n",
       "      <th>973669</th>\n",
       "      <td>Coronavirus</td>\n",
       "      <td>['Genre de virus à ARN de la famille des coron...</td>\n",
       "    </tr>\n",
       "    <tr>\n",
       "      <th>973670</th>\n",
       "      <td>Hangûl</td>\n",
       "      <td>[\"système d'écriture employé en coréen. Exempl...</td>\n",
       "    </tr>\n",
       "  </tbody>\n",
       "</table>\n",
       "</div>"
      ],
      "text/plain": [
       "                 Mot                                        Définitions\n",
       "973666        Sévice                            ['mauvais traitement.']\n",
       "973667    Faire voir                      ['Montrer, faire connaître.']\n",
       "973668  Laisser voir                      ['Montrer, faire connaître.']\n",
       "973669   Coronavirus  ['Genre de virus à ARN de la famille des coron...\n",
       "973670        Hangûl  [\"système d'écriture employé en coréen. Exempl..."
      ]
     },
     "execution_count": 75,
     "metadata": {},
     "output_type": "execute_result"
    }
   ],
   "source": [
    "# Affichage des 5 dernières lignes \n",
    "df.tail()"
   ]
  },
  {
   "attachments": {},
   "cell_type": "markdown",
   "metadata": {},
   "source": [
    "### Quelques manipulations\n",
    "#### Classement par ordre alphabétique\n",
    "La brève exploration nous a permis de constater que les mots n'étaient pas classés par ordre alphabétique. La méthode `sort_values()` axée sur la colonne 'Mot' nous permettra d'y remedier :"
   ]
  },
  {
   "cell_type": "code",
   "execution_count": 76,
   "metadata": {},
   "outputs": [],
   "source": [
    "df = df.sort_values('Mot')"
   ]
  },
  {
   "cell_type": "code",
   "execution_count": 77,
   "metadata": {},
   "outputs": [],
   "source": [
    "# Réinitialisation des index du dataframe pour s'assurer de leur\n",
    "# linéarité\n",
    "df = df.reset_index(drop=True)"
   ]
  },
  {
   "cell_type": "code",
   "execution_count": 87,
   "metadata": {},
   "outputs": [
    {
     "data": {
      "text/html": [
       "<div>\n",
       "<style scoped>\n",
       "    .dataframe tbody tr th:only-of-type {\n",
       "        vertical-align: middle;\n",
       "    }\n",
       "\n",
       "    .dataframe tbody tr th {\n",
       "        vertical-align: top;\n",
       "    }\n",
       "\n",
       "    .dataframe thead th {\n",
       "        text-align: right;\n",
       "    }\n",
       "</style>\n",
       "<table border=\"1\" class=\"dataframe\">\n",
       "  <thead>\n",
       "    <tr style=\"text-align: right;\">\n",
       "      <th></th>\n",
       "      <th>Mot</th>\n",
       "      <th>Définitions</th>\n",
       "    </tr>\n",
       "  </thead>\n",
       "  <tbody>\n",
       "    <tr>\n",
       "      <th>0</th>\n",
       "      <td>&amp;amp;</td>\n",
       "      <td>['variante ortho de et.']</td>\n",
       "    </tr>\n",
       "    <tr>\n",
       "      <th>1</th>\n",
       "      <td>&amp;amp;c.</td>\n",
       "      <td>['variante ortho de etc.']</td>\n",
       "    </tr>\n",
       "    <tr>\n",
       "      <th>2</th>\n",
       "      <td>'alif</td>\n",
       "      <td>['variante ortho de alif.']</td>\n",
       "    </tr>\n",
       "    <tr>\n",
       "      <th>3</th>\n",
       "      <td>'tain</td>\n",
       "      <td>['Forme familière de putain.']</td>\n",
       "    </tr>\n",
       "    <tr>\n",
       "      <th>4</th>\n",
       "      <td>'tis</td>\n",
       "      <td>[\"Masculin pluriel de 'ti.\"]</td>\n",
       "    </tr>\n",
       "    <tr>\n",
       "      <th>5</th>\n",
       "      <td>'tite</td>\n",
       "      <td>[\"Féminin singulier de 'ti.\", \"Féminin singuli...</td>\n",
       "    </tr>\n",
       "    <tr>\n",
       "      <th>6</th>\n",
       "      <td>'tites</td>\n",
       "      <td>[\"Féminin pluriel de 'ti.\", \"Féminin pluriel d...</td>\n",
       "    </tr>\n",
       "    <tr>\n",
       "      <th>7</th>\n",
       "      <td>'tits</td>\n",
       "      <td>[\"Masculin pluriel de 'tit.\"]</td>\n",
       "    </tr>\n",
       "    <tr>\n",
       "      <th>8</th>\n",
       "      <td>'zza</td>\n",
       "      <td>[\"Dix-septième lettre de l'alphabet arabe : /z...</td>\n",
       "    </tr>\n",
       "    <tr>\n",
       "      <th>9</th>\n",
       "      <td>'álif</td>\n",
       "      <td>['variante ortho de alif.']</td>\n",
       "    </tr>\n",
       "  </tbody>\n",
       "</table>\n",
       "</div>"
      ],
      "text/plain": [
       "       Mot                                        Définitions\n",
       "0    &amp;                          ['variante ortho de et.']\n",
       "1  &amp;c.                         ['variante ortho de etc.']\n",
       "2    'alif                        ['variante ortho de alif.']\n",
       "3    'tain                     ['Forme familière de putain.']\n",
       "4     'tis                       [\"Masculin pluriel de 'ti.\"]\n",
       "5    'tite  [\"Féminin singulier de 'ti.\", \"Féminin singuli...\n",
       "6   'tites  [\"Féminin pluriel de 'ti.\", \"Féminin pluriel d...\n",
       "7    'tits                      [\"Masculin pluriel de 'tit.\"]\n",
       "8     'zza  [\"Dix-septième lettre de l'alphabet arabe : /z...\n",
       "9    'álif                        ['variante ortho de alif.']"
      ]
     },
     "execution_count": 87,
     "metadata": {},
     "output_type": "execute_result"
    }
   ],
   "source": [
    "df.head(10)"
   ]
  },
  {
   "attachments": {},
   "cell_type": "markdown",
   "metadata": {},
   "source": [
    "#### Afficher les définitions d'un mot"
   ]
  },
  {
   "cell_type": "code",
   "execution_count": 79,
   "metadata": {},
   "outputs": [
    {
     "data": {
      "text/plain": [
       "444909    ['Bande dessinée japonaise, souvent en noir et...\n",
       "Name: Définitions, dtype: object"
      ]
     },
     "execution_count": 79,
     "metadata": {},
     "output_type": "execute_result"
    }
   ],
   "source": [
    "# Définitions d'un mot\n",
    "D = df.loc[df['Mot'] == 'Manga']['Définitions']\n",
    "D"
   ]
  },
  {
   "cell_type": "code",
   "execution_count": 80,
   "metadata": {},
   "outputs": [
    {
     "data": {
      "text/plain": [
       "pandas.core.series.Series"
      ]
     },
     "execution_count": 80,
     "metadata": {},
     "output_type": "execute_result"
    }
   ],
   "source": [
    "type(D)"
   ]
  },
  {
   "attachments": {},
   "cell_type": "markdown",
   "metadata": {},
   "source": [
    "Cela nous renvoie une Series Pandas avec la valeur de l'index et la liste contenant les définitions, c'est cette dernière qui nous intéresse."
   ]
  },
  {
   "cell_type": "code",
   "execution_count": 81,
   "metadata": {},
   "outputs": [
    {
     "data": {
      "text/plain": [
       "array([\"['Bande dessinée japonaise, souvent en noir et blanc et à la pagination élevée.', 'Style, stéréotypes et règles implicites de la bande dessinée japonaise.', 'Peut aussi désigner un dessin animé japonais, mais ce terme est impropre car le terme courant est « anime ».']\"],\n",
       "      dtype=object)"
      ]
     },
     "execution_count": 81,
     "metadata": {},
     "output_type": "execute_result"
    }
   ],
   "source": [
    "# Récupération de la liste des définitions\n",
    "D.values"
   ]
  },
  {
   "cell_type": "code",
   "execution_count": 82,
   "metadata": {},
   "outputs": [
    {
     "data": {
      "text/plain": [
       "numpy.ndarray"
      ]
     },
     "execution_count": 82,
     "metadata": {},
     "output_type": "execute_result"
    }
   ],
   "source": [
    "type(D.values)"
   ]
  },
  {
   "attachments": {},
   "cell_type": "markdown",
   "metadata": {},
   "source": [
    "La valeur est contenue dans un array Numpy (l'importion du module Numpy n'est pour autant pas nécessaire). Nous constatons que l'objet contient notre liste sous forme de chaîne de caractères, la méthode `eval()` permettra de la convertir en liste."
   ]
  },
  {
   "cell_type": "code",
   "execution_count": 83,
   "metadata": {},
   "outputs": [
    {
     "data": {
      "text/plain": [
       "['Bande dessinée japonaise, souvent en noir et blanc et à la pagination élevée.',\n",
       " 'Style, stéréotypes et règles implicites de la bande dessinée japonaise.',\n",
       " 'Peut aussi désigner un dessin animé japonais, mais ce terme est impropre car le terme courant est « anime ».']"
      ]
     },
     "execution_count": 83,
     "metadata": {},
     "output_type": "execute_result"
    }
   ],
   "source": [
    "eval(D.values[0])"
   ]
  },
  {
   "attachments": {},
   "cell_type": "markdown",
   "metadata": {},
   "source": [
    "Version condensée"
   ]
  },
  {
   "cell_type": "code",
   "execution_count": 92,
   "metadata": {},
   "outputs": [
    {
     "name": "stdout",
     "output_type": "stream",
     "text": [
      "Mot :  Manga\n",
      "1) Bande dessinée japonaise, souvent en noir et blanc et à la pagination élevée.\n",
      "2) Style, stéréotypes et règles implicites de la bande dessinée japonaise.\n",
      "3) Peut aussi désigner un dessin animé japonais, mais ce terme est impropre car le terme courant est « anime ».\n"
     ]
    }
   ],
   "source": [
    "mot = \"Manga\"\n",
    "D = df.loc[df['Mot'] == mot]['Définitions']\n",
    "D = eval(D.values[0])\n",
    "\n",
    "print(\"Mot : \", mot)\n",
    "for idx, definition in enumerate(D):\n",
    "    print(f\"{idx+1}) {definition}\")"
   ]
  }
 ],
 "metadata": {
  "kernelspec": {
   "display_name": "base",
   "language": "python",
   "name": "python3"
  },
  "language_info": {
   "codemirror_mode": {
    "name": "ipython",
    "version": 3
   },
   "file_extension": ".py",
   "mimetype": "text/x-python",
   "name": "python",
   "nbconvert_exporter": "python",
   "pygments_lexer": "ipython3",
   "version": "3.9.12"
  },
  "orig_nbformat": 4
 },
 "nbformat": 4,
 "nbformat_minor": 2
}
